{
 "cells": [
  {
   "cell_type": "code",
   "execution_count": 1,
   "id": "76748424",
   "metadata": {},
   "outputs": [
    {
     "data": {
      "text/html": [
       "<style>.container { width:90% !important; }</style>"
      ],
      "text/plain": [
       "<IPython.core.display.HTML object>"
      ]
     },
     "metadata": {},
     "output_type": "display_data"
    }
   ],
   "source": [
    "from IPython.display import display, HTML\n",
    "display(HTML(\"<style>.container { width:90% !important; }</style>\"))"
   ]
  },
  {
   "cell_type": "code",
   "execution_count": null,
   "id": "e0aa2e9e",
   "metadata": {},
   "outputs": [],
   "source": [
    "import time\n",
    "start = time.time()\n",
    "\n",
    "#works not sure what's up with this, but hey.. whatever. \n",
    "exec(open(\"dem_gaz_scraper1.py\").read()) #new one\n",
    "\n",
    "#scrpae a list of links:  \n",
    "all_links = get_all_links(4)  #every 1 = 15 stories\n",
    "\n",
    "#scrape the list of links: \n",
    "image_list, title_list, story_list = scrape_links(all_links)\n",
    "\n",
    "time.sleep(3.5)\n",
    "end = time.time()\n",
    " \n",
    "print(end-start)\n",
    "\n",
    "#Article / Body Loop   #creates the html_body_str variable\n",
    "###################################################################################################################\n",
    "html_body_str = ''\n",
    "Y=0\n",
    "while Y < len(image_list):\n",
    "    article = \"\"\"\"\n",
    "    <style>\n",
    "      .img-container {\n",
    "      text-align: center;\n",
    "      margin-right: 0px;\n",
    "      margin-left: 0px;\n",
    "      }\n",
    "    </style>\n",
    "\n",
    "    </head>\n",
    "    <body>\n",
    "\n",
    "        <div class=\"img-container\"> <!-- Block parent element -->\n",
    "            <hr>\n",
    "            <br>\n",
    "            <br>\n",
    "            <br>\n",
    "            <br>\"\"\"+f\"\"\"  \n",
    "            <p>\n",
    "            <font size=\"4\" face=\"arial\" color=\"black\">\n",
    "            Story {Y+1}\n",
    "            </font>\n",
    "            </p>\n",
    "            <img src=\"{image_list[Y]}\" alt=\"No Image\">\n",
    "            <font size=\"5\" face=\"arial\" color=\"black\">\n",
    "            <h2>{title_list[Y]}</h2>\n",
    "            </font> \n",
    "        </div>\"\"\"+\"\"\"\"\n",
    "\n",
    "    <style>\n",
    "      .text-container {\n",
    "      text-align: justify;\n",
    "      margin-right: 110px;\n",
    "      margin-left: 110px;\n",
    "      }\n",
    "    </style>\"\"\"+f\"\"\"\n",
    "\n",
    "    <div class=\"text-container\"> <!-- Block parent element -->\n",
    "        <p>\n",
    "        <font size=\"4.4\" face=\"arial\" color=\"black\">\n",
    "        {story_list[Y]}\n",
    "        </font>\n",
    "        </p>\n",
    "        <br>\n",
    "        <br> \n",
    "        <hr>\n",
    "    </div>\"\"\"\n",
    "\n",
    "    html_body_str =  html_body_str + article                                                                                              \n",
    "\n",
    "    Y+=1  #loops the variable string and adds to it's self\n",
    "###################################################################################################################\n",
    "\n",
    "\n",
    "\n",
    "#Actual html code Here:  Contains {html_body_str} as f-string variable\n",
    "##################################################################\n",
    "curr_date = date.today() #todays date \n",
    "day_of_week = calendar.day_name[curr_date.weekday()] #today's day of week\n",
    "\n",
    "html_template = f\"\"\"\n",
    "<!DOCTYPE html>\n",
    "<html>\n",
    "  <head>\n",
    "  <style>\"\"\"+\"\"\"\n",
    "      .header-container {\n",
    "      text-align: center;\n",
    "      margin-right: 100px;\n",
    "      margin-left: 100px;\n",
    "      }\n",
    "    </style>\"\"\"+f\"\"\"\n",
    "        <div class=\"header-container\"> <!-- Block parent element -->\n",
    "            <h2>{day_of_week} {curr_date}</h2>\n",
    "            <img src=\"https://media.arkansasonline.com/static/ao_redesign/dist/img/adg-logo.svg\" alt=\"John Doe\">\n",
    "            <font size=\"5\" face=\"arial\" color=\"black\">\n",
    "            </font> \n",
    "        </div>\n",
    "     </head>\n",
    "    {html_body_str} \n",
    "</body>\n",
    "</html>\"\"\"\n",
    "##################################################################\n",
    "\n",
    "\n",
    "\n",
    "#write the HTML File and Open Logic\n",
    "##################################################################\n",
    "# Opens 'GFG.html in write mode... idk what that is\n",
    "f = open(str(curr_date)+'.html', 'w')\n",
    "f.write(html_template) #overwrites Original file with HTML Code. \n",
    "f.close()  #close the file..not sure why I need this. \n",
    "\n",
    "time.sleep(.5)\n",
    "\n",
    "file_name = (str(curr_date)+\".html\")\n",
    "#webbrowser.open('http://localhost:8888/view/Desktop/Python_SCRIPTS/dem gaz_scraper_program/'+file_name)\n",
    "##################################################################\n",
    "\n",
    "\n",
    "\n",
    "\n"
   ]
  },
  {
   "cell_type": "code",
   "execution_count": null,
   "id": "0eb50351",
   "metadata": {},
   "outputs": [],
   "source": []
  },
  {
   "cell_type": "code",
   "execution_count": null,
   "id": "94c54a6b",
   "metadata": {},
   "outputs": [],
   "source": []
  },
  {
   "cell_type": "code",
   "execution_count": null,
   "id": "13520db4",
   "metadata": {},
   "outputs": [],
   "source": [
    "from threading import Thread\n",
    "\n",
    "#start the server.  #multi process\n",
    "def start_server():\n",
    "    !python3 -m http.server 8000\n",
    "\n",
    "\n",
    "t1 = Thread(target=start_server, args = ())\n",
    "t1.start()\n",
    "#t1.join()\n",
    "\n",
    "import time\n",
    "time.sleep(3)\n",
    "\n",
    "\n",
    "import os\n",
    "os.chdir('/Users/deanemarks/Desktop/Python_SCRIPTS/send_text')\n",
    "%run text_message_read_and_send.ipynb\n",
    "text_message = f\"http://deanes-mbp:8000/2022-12-20.html\" #variable\n",
    "send_Imessage(5015802604, text_message )"
   ]
  },
  {
   "cell_type": "code",
   "execution_count": null,
   "id": "ff49df5e",
   "metadata": {},
   "outputs": [],
   "source": []
  },
  {
   "cell_type": "code",
   "execution_count": null,
   "id": "aebb80ab",
   "metadata": {},
   "outputs": [],
   "source": []
  },
  {
   "cell_type": "code",
   "execution_count": null,
   "id": "33e5c93b",
   "metadata": {},
   "outputs": [],
   "source": []
  },
  {
   "cell_type": "code",
   "execution_count": null,
   "id": "71da1c57",
   "metadata": {},
   "outputs": [],
   "source": [
    "t1.join()\n",
    "t1.terminate"
   ]
  },
  {
   "cell_type": "code",
   "execution_count": null,
   "id": "b496c68e",
   "metadata": {},
   "outputs": [],
   "source": []
  },
  {
   "cell_type": "code",
   "execution_count": null,
   "id": "08981751",
   "metadata": {},
   "outputs": [],
   "source": []
  },
  {
   "cell_type": "code",
   "execution_count": null,
   "id": "2da285b4",
   "metadata": {},
   "outputs": [],
   "source": []
  },
  {
   "cell_type": "code",
   "execution_count": null,
   "id": "8fe1b9d2",
   "metadata": {},
   "outputs": [],
   "source": []
  },
  {
   "cell_type": "code",
   "execution_count": null,
   "id": "51cd7275",
   "metadata": {},
   "outputs": [],
   "source": []
  },
  {
   "cell_type": "code",
   "execution_count": null,
   "id": "080c19d2",
   "metadata": {},
   "outputs": [],
   "source": []
  },
  {
   "cell_type": "code",
   "execution_count": null,
   "id": "24d74728",
   "metadata": {},
   "outputs": [],
   "source": []
  },
  {
   "cell_type": "code",
   "execution_count": null,
   "id": "7a39c519",
   "metadata": {},
   "outputs": [],
   "source": []
  },
  {
   "cell_type": "code",
   "execution_count": null,
   "id": "f2bb92cf",
   "metadata": {},
   "outputs": [],
   "source": []
  },
  {
   "cell_type": "code",
   "execution_count": null,
   "id": "5876820e",
   "metadata": {},
   "outputs": [],
   "source": [
    "##################################################################\n",
    "curr_date = date.today() #todays date \n",
    "day_of_week = calendar.day_name[curr_date.weekday()] #today's day of week\n",
    "\n",
    "html_template = f\"\"\"\n",
    "<!DOCTYPE html>\n",
    "<html>\n",
    "  <head>\n",
    "  <style>\"\"\"+\"\"\"\n",
    "      .header-container {\n",
    "      text-align: center;\n",
    "      margin-right: 100px;\n",
    "      margin-left: 100px;\n",
    "      }\n",
    "    </style>\"\"\"+f\"\"\"\n",
    "        <div class=\"header-container\"> <!-- Block parent element -->\n",
    "            <h2>{day_of_week} {curr_date}</h2>\n",
    "            \n",
    "            <img src=\"file:///Users/deanemarks/Desktop/deane.jpeg\" alt = 'Fuck'>\n",
    "            \n",
    "            <font size=\"5\" face=\"arial\" color=\"black\">\n",
    "            </font> \n",
    "        </div>\n",
    "     </head>\n",
    "</body>\n",
    "</html>\"\"\"\n",
    "##################################################################"
   ]
  },
  {
   "cell_type": "code",
   "execution_count": null,
   "id": "063977b6",
   "metadata": {},
   "outputs": [],
   "source": []
  },
  {
   "cell_type": "code",
   "execution_count": null,
   "id": "b15269b7",
   "metadata": {},
   "outputs": [],
   "source": [
    "f = open( 'ALARM_TEST.html', 'w')\n",
    "f.write(html_template) \n",
    "f.close()  \n",
    "\n",
    "webbrowser.open('file:///Users/deanemarks/Desktop/Python_SCRIPTS/dem%20gaz_scraper_program/ALARM_TEST.html')"
   ]
  },
  {
   "cell_type": "code",
   "execution_count": null,
   "id": "e6982ed1",
   "metadata": {},
   "outputs": [],
   "source": []
  },
  {
   "cell_type": "code",
   "execution_count": null,
   "id": "5a5a27ea",
   "metadata": {},
   "outputs": [],
   "source": [
    "open('file:///Users/deanemarks/Desktop/Python_SCRIPTS/dem%20gaz_scraper_program/ALARM_TEST.html')"
   ]
  },
  {
   "cell_type": "code",
   "execution_count": null,
   "id": "f471a0ae",
   "metadata": {},
   "outputs": [],
   "source": []
  },
  {
   "cell_type": "code",
   "execution_count": null,
   "id": "608e2921",
   "metadata": {},
   "outputs": [],
   "source": []
  },
  {
   "cell_type": "code",
   "execution_count": null,
   "id": "581609c1",
   "metadata": {},
   "outputs": [],
   "source": []
  },
  {
   "cell_type": "code",
   "execution_count": null,
   "id": "7604c27c",
   "metadata": {},
   "outputs": [],
   "source": []
  },
  {
   "cell_type": "code",
   "execution_count": null,
   "id": "75300071",
   "metadata": {},
   "outputs": [],
   "source": []
  },
  {
   "cell_type": "code",
   "execution_count": null,
   "id": "aecb1170",
   "metadata": {},
   "outputs": [],
   "source": [
    "#SEND IMESSAGE EXAMPLE:\n",
    "########################################################################\n",
    "text_message = f\"This Alpha Chimp? \"\n",
    "send_Imessage(\"+11111111111\", text_message )\n",
    "#send_Imessage(\"+15015802604\", text_message )\n",
    "########################################################################\n",
    "\n",
    "\n",
    "#SEND SMS TEXT MESSAGE EXAMPLE\n",
    "########################################################################\n",
    "#text_message = f\"{Y} Bottles of beer on the wall {Y} Bottles of Beer\\n\"\n",
    "#send_text(\"+15015802604\", text_message )\n",
    "########################################################################\n"
   ]
  },
  {
   "cell_type": "code",
   "execution_count": null,
   "id": "b4fb30e5",
   "metadata": {},
   "outputs": [],
   "source": [
    "df = read_in_texts()\n",
    "df"
   ]
  },
  {
   "cell_type": "code",
   "execution_count": null,
   "id": "eb2fdc48",
   "metadata": {},
   "outputs": [],
   "source": []
  },
  {
   "cell_type": "code",
   "execution_count": null,
   "id": "ec8ad897",
   "metadata": {},
   "outputs": [],
   "source": [
    "Y = 5\n",
    "while Y != 0:\n",
    "    text_message = f\"This the Alpha Chimp?\"\n",
    "    time.sleep(5)\n",
    "    send_Imessage(11111111111, text_message )\n",
    "    Y-=1\n",
    "    \n",
    "    \n",
    "    \n",
    "    \n",
    "    \n",
    "    \n",
    "    "
   ]
  },
  {
   "cell_type": "code",
   "execution_count": null,
   "id": "a6cad522",
   "metadata": {},
   "outputs": [],
   "source": [
    "laura = 14083483092\n",
    "will = "
   ]
  }
 ],
 "metadata": {
  "kernelspec": {
   "display_name": "Python 3 (ipykernel)",
   "language": "python",
   "name": "python3"
  },
  "language_info": {
   "codemirror_mode": {
    "name": "ipython",
    "version": 3
   },
   "file_extension": ".py",
   "mimetype": "text/x-python",
   "name": "python",
   "nbconvert_exporter": "python",
   "pygments_lexer": "ipython3",
   "version": "3.10.7"
  }
 },
 "nbformat": 4,
 "nbformat_minor": 5
}
