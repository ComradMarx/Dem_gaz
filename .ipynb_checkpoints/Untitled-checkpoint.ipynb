{
 "cells": [
  {
   "cell_type": "code",
   "execution_count": 25,
   "id": "edd018be",
   "metadata": {},
   "outputs": [
    {
     "name": "stdout",
     "output_type": "stream",
     "text": [
      "Serving HTTP on :: port 8000 (http://[::]:8000/) ...\n",
      "::1 - - [20/Dec/2022 09:00:14] \"GET / HTTP/1.1\" 200 -\n",
      "::1 - - [20/Dec/2022 09:00:19] \"GET /2022-12-19.html HTTP/1.1\" 200 -\n",
      "::ffff:192.168.1.68 - - [20/Dec/2022 09:00:57] \"GET / HTTP/1.1\" 200 -\n",
      "::ffff:192.168.1.68 - - [20/Dec/2022 09:01:04] \"GET /2022-12-19.html HTTP/1.1\" 200 -\n",
      "::ffff:192.168.1.68 - - [20/Dec/2022 09:01:30] code 404, message File not found\n",
      "::ffff:192.168.1.68 - - [20/Dec/2022 09:01:30] \"GET /apple-touch-icon.png HTTP/1.1\" 404 -\n",
      "::ffff:192.168.1.68 - - [20/Dec/2022 09:01:30] code 404, message File not found\n",
      "::ffff:192.168.1.68 - - [20/Dec/2022 09:01:30] \"GET /favicon.ico HTTP/1.1\" 404 -\n",
      "::ffff:192.168.1.68 - - [20/Dec/2022 09:01:30] code 404, message File not found\n",
      "::ffff:192.168.1.68 - - [20/Dec/2022 09:01:30] \"GET /2022-12-19.html HTTP/1.1\" 200 -\n",
      "::ffff:192.168.1.68 - - [20/Dec/2022 09:01:30] \"GET /apple-touch-icon-precomposed.png HTTP/1.1\" 404 -\n",
      "::ffff:192.168.1.66 - - [20/Dec/2022 09:01:42] \"GET /2022-12-19.html HTTP/1.1\" 200 -\n",
      "::ffff:192.168.1.66 - - [20/Dec/2022 09:02:10] code 404, message File not found\n",
      "::ffff:192.168.1.66 - - [20/Dec/2022 09:02:10] \"GET /favicon.ico HTTP/1.1\" 404 -\n",
      "^C\n",
      "\n",
      "Keyboard interrupt received, exiting.\n"
     ]
    }
   ],
   "source": [
    "#!python3 -m http.server 8000\n",
    "!python3 -m http.server 8000"
   ]
  },
  {
   "cell_type": "code",
   "execution_count": null,
   "id": "9fa8810b",
   "metadata": {},
   "outputs": [],
   "source": [
    "http://localhost:8000/."
   ]
  },
  {
   "cell_type": "code",
   "execution_count": 15,
   "id": "7f6e5f93",
   "metadata": {},
   "outputs": [
    {
     "name": "stdout",
     "output_type": "stream",
     "text": [
      "Deanes-MBP\r\n"
     ]
    }
   ],
   "source": [
    "!hostname\n",
    "\n",
    "http://Deanes-MBP:8000/index.html\n"
   ]
  },
  {
   "cell_type": "code",
   "execution_count": 24,
   "id": "8e1e36b8",
   "metadata": {},
   "outputs": [
    {
     "name": "stdout",
     "output_type": "stream",
     "text": [
      "Deanes-MBP\r\n"
     ]
    }
   ],
   "source": [
    "!hostname"
   ]
  },
  {
   "cell_type": "code",
   "execution_count": null,
   "id": "cac9f855",
   "metadata": {},
   "outputs": [],
   "source": [
    "http://Deanes-MBP:8000/.\n"
   ]
  },
  {
   "cell_type": "code",
   "execution_count": 1,
   "id": "3448733c",
   "metadata": {},
   "outputs": [
    {
     "data": {
      "text/plain": [
       "'\\nVery simple HTTP server in python (Updated for Python 3.7)\\nUsage:\\n    ./dummy-web-server.py -h\\n    ./dummy-web-server.py -l localhost -p 8000\\nSend a GET request:\\n    curl http://localhost:8000\\nSend a HEAD request:\\n    curl -I http://localhost:8000\\nSend a POST request:\\n    curl -d \"foo=bar&bin=baz\" http://localhost:8000\\n'"
      ]
     },
     "execution_count": 1,
     "metadata": {},
     "output_type": "execute_result"
    }
   ],
   "source": [
    "\"\"\"\n",
    "Very simple HTTP server in python (Updated for Python 3.7)\n",
    "Usage:\n",
    "    ./dummy-web-server.py -h\n",
    "    ./dummy-web-server.py -l localhost -p 8000\n",
    "Send a GET request:\n",
    "    curl http://localhost:8000\n",
    "Send a HEAD request:\n",
    "    curl -I http://localhost:8000\n",
    "Send a POST request:\n",
    "    curl -d \"foo=bar&bin=baz\" http://localhost:8000\n",
    "\"\"\""
   ]
  },
  {
   "cell_type": "code",
   "execution_count": null,
   "id": "830868b3",
   "metadata": {},
   "outputs": [],
   "source": []
  },
  {
   "cell_type": "code",
   "execution_count": null,
   "id": "27f2a8c1",
   "metadata": {},
   "outputs": [],
   "source": [
    "\n"
   ]
  },
  {
   "cell_type": "code",
   "execution_count": null,
   "id": "8ec8dffa",
   "metadata": {},
   "outputs": [],
   "source": []
  }
 ],
 "metadata": {
  "kernelspec": {
   "display_name": "Python 3 (ipykernel)",
   "language": "python",
   "name": "python3"
  },
  "language_info": {
   "codemirror_mode": {
    "name": "ipython",
    "version": 3
   },
   "file_extension": ".py",
   "mimetype": "text/x-python",
   "name": "python",
   "nbconvert_exporter": "python",
   "pygments_lexer": "ipython3",
   "version": "3.10.7"
  }
 },
 "nbformat": 4,
 "nbformat_minor": 5
}
