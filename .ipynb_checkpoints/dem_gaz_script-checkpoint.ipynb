{
 "cells": [
  {
   "cell_type": "code",
   "execution_count": 1,
   "id": "76748424",
   "metadata": {},
   "outputs": [
    {
     "data": {
      "text/html": [
       "<style>.container { width:90% !important; }</style>"
      ],
      "text/plain": [
       "<IPython.core.display.HTML object>"
      ]
     },
     "metadata": {},
     "output_type": "display_data"
    }
   ],
   "source": [
    "from IPython.display import display, HTML\n",
    "display(HTML(\"<style>.container { width:90% !important; }</style>\"))"
   ]
  },
  {
   "cell_type": "code",
   "execution_count": 8,
   "id": "e0aa2e9e",
   "metadata": {},
   "outputs": [
    {
     "name": "stdout",
     "output_type": "stream",
     "text": [
      "4.278036832809448\n"
     ]
    },
    {
     "data": {
      "text/plain": [
       "True"
      ]
     },
     "execution_count": 8,
     "metadata": {},
     "output_type": "execute_result"
    }
   ],
   "source": [
    "import time\n",
    "start = time.time()\n",
    "\n",
    "#works not sure what's up with this, but hey.. whatever. \n",
    "exec(open(\"dem_gaz_scraper1.py\").read()) #new one\n",
    "\n",
    "#scrpae a list of links:  \n",
    "all_links = get_all_links(4)  #every 1 = 15 stories\n",
    "\n",
    "#scrape the list of links: \n",
    "image_list, title_list, story_list = scrape_links(all_links)\n",
    "\n",
    "time.sleep(3)\n",
    "end = time.time()\n",
    "time= end-start\n",
    "print(time)\n",
    "\n",
    "#Article / Body Loop   #creates the html_body_str variable\n",
    "###################################################################################################################\n",
    "html_body_str = ''\n",
    "Y=0\n",
    "while Y < len(image_list):\n",
    "    article = \"\"\"\"\n",
    "    <style>\n",
    "      .img-container {\n",
    "      text-align: center;\n",
    "      margin-right: 0px;\n",
    "      margin-left: 0px;\n",
    "      }\n",
    "    </style>\n",
    "\n",
    "    </head>\n",
    "    <body>\n",
    "\n",
    "        <div class=\"img-container\"> <!-- Block parent element -->\n",
    "            <hr>\n",
    "            <br>\n",
    "            <br>\n",
    "            <br>\n",
    "            <br>\"\"\"+f\"\"\"  \n",
    "            <p>\n",
    "            <font size=\"4\" face=\"arial\" color=\"black\">\n",
    "            Story {Y+1}\n",
    "            </font>\n",
    "            </p>\n",
    "            <img src=\"{image_list[Y]}\" alt=\"No Image\">\n",
    "            <font size=\"5\" face=\"arial\" color=\"black\">\n",
    "            <h2>{title_list[Y]}</h2>\n",
    "            </font> \n",
    "        </div>\"\"\"+\"\"\"\"\n",
    "\n",
    "    <style>\n",
    "      .text-container {\n",
    "      text-align: justify;\n",
    "      margin-right: 110px;\n",
    "      margin-left: 110px;\n",
    "      }\n",
    "    </style>\"\"\"+f\"\"\"\n",
    "\n",
    "    <div class=\"text-container\"> <!-- Block parent element -->\n",
    "        <p>\n",
    "        <font size=\"4.4\" face=\"arial\" color=\"black\">\n",
    "        {story_list[Y]}\n",
    "        </font>\n",
    "        </p>\n",
    "        <br>\n",
    "        <br> \n",
    "        <hr>\n",
    "    </div>\"\"\"\n",
    "\n",
    "    html_body_str =  html_body_str + article                                                                                              \n",
    "\n",
    "    Y+=1  #loops the variable string and adds to it's self\n",
    "###################################################################################################################\n",
    "\n",
    "\n",
    "\n",
    "#Actual html code Here:  Contains {html_body_str} as f-string variable\n",
    "##################################################################\n",
    "curr_date = date.today() #todays date \n",
    "day_of_week = calendar.day_name[curr_date.weekday()] #today's day of week\n",
    "\n",
    "html_template = f\"\"\"\n",
    "<!DOCTYPE html>\n",
    "<html>\n",
    "  <head>\n",
    "  <style>\"\"\"+\"\"\"\n",
    "      .header-container {\n",
    "      text-align: center;\n",
    "      margin-right: 100px;\n",
    "      margin-left: 100px;\n",
    "      }\n",
    "    </style>\"\"\"+f\"\"\"\n",
    "        <div class=\"header-container\"> <!-- Block parent element -->\n",
    "            <h2>{day_of_week} {curr_date}</h2>\n",
    "            <img src=\"https://media.arkansasonline.com/static/ao_redesign/dist/img/adg-logo.svg\" alt=\"John Doe\">\n",
    "            <font size=\"5\" face=\"arial\" color=\"black\">\n",
    "            </font> \n",
    "        </div>\n",
    "     </head>\n",
    "    {html_body_str} \n",
    "</body>\n",
    "</html>\"\"\"\n",
    "##################################################################\n",
    "\n",
    "\n",
    "\n",
    "#write the HTML File and Open Logic\n",
    "##################################################################\n",
    "# Opens 'GFG.html in write mode... idk what that is\n",
    "f = open(str(curr_date)+'.html', 'w')\n",
    "f.write(html_template) #overwrites Original file with HTML Code. \n",
    "f.close()  #close the file..not sure why I need this. \n",
    "webbrowser.open(f'http://localhost:8888/view/Desktop/dem%20gaz_new/{str(curr_date)}.html', new=0, autoraise=True) #preview in new tab. \n",
    "##################################################################"
   ]
  },
  {
   "cell_type": "code",
   "execution_count": null,
   "id": "3c331a0d",
   "metadata": {},
   "outputs": [],
   "source": []
  },
  {
   "cell_type": "code",
   "execution_count": null,
   "id": "62fe12f8",
   "metadata": {},
   "outputs": [],
   "source": []
  },
  {
   "cell_type": "code",
   "execution_count": null,
   "id": "0eb50351",
   "metadata": {},
   "outputs": [],
   "source": []
  },
  {
   "cell_type": "code",
   "execution_count": null,
   "id": "08981751",
   "metadata": {},
   "outputs": [],
   "source": []
  },
  {
   "cell_type": "code",
   "execution_count": null,
   "id": "2da285b4",
   "metadata": {},
   "outputs": [],
   "source": []
  },
  {
   "cell_type": "code",
   "execution_count": null,
   "id": "8fe1b9d2",
   "metadata": {},
   "outputs": [],
   "source": []
  },
  {
   "cell_type": "code",
   "execution_count": null,
   "id": "51cd7275",
   "metadata": {},
   "outputs": [],
   "source": []
  },
  {
   "cell_type": "code",
   "execution_count": null,
   "id": "080c19d2",
   "metadata": {},
   "outputs": [],
   "source": []
  },
  {
   "cell_type": "code",
   "execution_count": null,
   "id": "24d74728",
   "metadata": {},
   "outputs": [],
   "source": []
  },
  {
   "cell_type": "code",
   "execution_count": null,
   "id": "7a39c519",
   "metadata": {},
   "outputs": [],
   "source": []
  },
  {
   "cell_type": "code",
   "execution_count": null,
   "id": "f2bb92cf",
   "metadata": {},
   "outputs": [],
   "source": []
  },
  {
   "cell_type": "code",
   "execution_count": null,
   "id": "5876820e",
   "metadata": {},
   "outputs": [],
   "source": []
  },
  {
   "cell_type": "code",
   "execution_count": null,
   "id": "063977b6",
   "metadata": {},
   "outputs": [],
   "source": []
  },
  {
   "cell_type": "code",
   "execution_count": null,
   "id": "b15269b7",
   "metadata": {},
   "outputs": [],
   "source": []
  },
  {
   "cell_type": "code",
   "execution_count": null,
   "id": "e6982ed1",
   "metadata": {},
   "outputs": [],
   "source": []
  },
  {
   "cell_type": "code",
   "execution_count": null,
   "id": "5a5a27ea",
   "metadata": {},
   "outputs": [],
   "source": []
  },
  {
   "cell_type": "code",
   "execution_count": null,
   "id": "f471a0ae",
   "metadata": {},
   "outputs": [],
   "source": []
  },
  {
   "cell_type": "code",
   "execution_count": null,
   "id": "608e2921",
   "metadata": {},
   "outputs": [],
   "source": []
  },
  {
   "cell_type": "code",
   "execution_count": null,
   "id": "581609c1",
   "metadata": {},
   "outputs": [],
   "source": []
  },
  {
   "cell_type": "code",
   "execution_count": null,
   "id": "7604c27c",
   "metadata": {},
   "outputs": [],
   "source": []
  },
  {
   "cell_type": "code",
   "execution_count": null,
   "id": "75300071",
   "metadata": {},
   "outputs": [],
   "source": []
  },
  {
   "cell_type": "code",
   "execution_count": null,
   "id": "aecb1170",
   "metadata": {},
   "outputs": [],
   "source": []
  }
 ],
 "metadata": {
  "kernelspec": {
   "display_name": "Python 3",
   "language": "python",
   "name": "python3"
  },
  "language_info": {
   "codemirror_mode": {
    "name": "ipython",
    "version": 3
   },
   "file_extension": ".py",
   "mimetype": "text/x-python",
   "name": "python",
   "nbconvert_exporter": "python",
   "pygments_lexer": "ipython3",
   "version": "3.9.5"
  }
 },
 "nbformat": 4,
 "nbformat_minor": 5
}
