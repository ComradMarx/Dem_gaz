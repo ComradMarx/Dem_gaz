{
 "cells": [
  {
   "cell_type": "code",
   "execution_count": null,
   "id": "6b5f2d34",
   "metadata": {},
   "outputs": [],
   "source": []
  },
  {
   "cell_type": "code",
   "execution_count": 1,
   "id": "eda7009d",
   "metadata": {},
   "outputs": [],
   "source": [
    "import os"
   ]
  },
  {
   "cell_type": "code",
   "execution_count": 2,
   "id": "2685a575",
   "metadata": {},
   "outputs": [
    {
     "data": {
      "text/plain": [
       "'/Users/deanemarks/Desktop/PROGRAMS/dem gaz_scraper_program'"
      ]
     },
     "execution_count": 2,
     "metadata": {},
     "output_type": "execute_result"
    }
   ],
   "source": [
    "os.getcwd()"
   ]
  },
  {
   "cell_type": "code",
   "execution_count": 3,
   "id": "3f7e2b5d",
   "metadata": {},
   "outputs": [
    {
     "data": {
      "text/plain": [
       "['.DS_Store',\n",
       " 'web_server.ipynb',\n",
       " 'dem_gaz_script.ipynb',\n",
       " '__pycache__',\n",
       " '.ipynb_checkpoints',\n",
       " '.git',\n",
       " 'dem_gaz_scraper1.py']"
      ]
     },
     "execution_count": 3,
     "metadata": {},
     "output_type": "execute_result"
    }
   ],
   "source": [
    "os.listdir()"
   ]
  },
  {
   "cell_type": "code",
   "execution_count": null,
   "id": "f6c073ad",
   "metadata": {},
   "outputs": [],
   "source": []
  },
  {
   "cell_type": "code",
   "execution_count": null,
   "id": "b60519b5",
   "metadata": {},
   "outputs": [],
   "source": []
  },
  {
   "cell_type": "markdown",
   "id": "d22b304f",
   "metadata": {},
   "source": [
    "# pull in a repository "
   ]
  },
  {
   "cell_type": "code",
   "execution_count": 4,
   "id": "d092a9a7",
   "metadata": {},
   "outputs": [],
   "source": [
    "!rm -rf .git  #deletes hidden git folder/ reopsatory"
   ]
  },
  {
   "cell_type": "code",
   "execution_count": 5,
   "id": "80596e28",
   "metadata": {},
   "outputs": [
    {
     "name": "stdout",
     "output_type": "stream",
     "text": [
      "Initialized empty Git repository in /Users/deanemarks/Desktop/PROGRAMS/dem gaz_scraper_program/.git/\r\n"
     ]
    }
   ],
   "source": [
    "!git init #creates a hidden git folder inside of the directory... see with os.list"
   ]
  },
  {
   "cell_type": "code",
   "execution_count": 7,
   "id": "bdf08baf",
   "metadata": {},
   "outputs": [
    {
     "name": "stdout",
     "output_type": "stream",
     "text": [
      "From https://github.com/ComradMarx/Dem_gaz\n",
      " * branch            main       -> FETCH_HEAD\n",
      "Already up to date.\n"
     ]
    }
   ],
   "source": [
    "!git pull https://github.com/ComradMarx/Dem_gaz.git  main  #pulls the files into your directory"
   ]
  },
  {
   "cell_type": "code",
   "execution_count": null,
   "id": "c4d82ac7",
   "metadata": {},
   "outputs": [],
   "source": []
  },
  {
   "cell_type": "code",
   "execution_count": null,
   "id": "0354b2eb",
   "metadata": {},
   "outputs": [],
   "source": []
  },
  {
   "cell_type": "code",
   "execution_count": null,
   "id": "cd5d4ef6",
   "metadata": {},
   "outputs": [],
   "source": [
    "!git remote add origin https://github.com/ComradMarx/Dem_gaz.git  #connects to a git repo"
   ]
  },
  {
   "cell_type": "code",
   "execution_count": null,
   "id": "5e0c066d",
   "metadata": {},
   "outputs": [],
   "source": [
    "!git branch -M main #specify which branch I'm talking about"
   ]
  },
  {
   "cell_type": "code",
   "execution_count": null,
   "id": "b97f2885",
   "metadata": {},
   "outputs": [],
   "source": []
  },
  {
   "cell_type": "code",
   "execution_count": null,
   "id": "4a87cc1a",
   "metadata": {},
   "outputs": [],
   "source": [
    "!git fetch"
   ]
  },
  {
   "cell_type": "code",
   "execution_count": null,
   "id": "88a62b52",
   "metadata": {},
   "outputs": [],
   "source": [
    "!git merge"
   ]
  },
  {
   "cell_type": "code",
   "execution_count": null,
   "id": "32684bad",
   "metadata": {},
   "outputs": [],
   "source": []
  },
  {
   "cell_type": "code",
   "execution_count": null,
   "id": "5d43ee89",
   "metadata": {},
   "outputs": [],
   "source": [
    "!git add ."
   ]
  },
  {
   "cell_type": "code",
   "execution_count": null,
   "id": "b4817a05",
   "metadata": {},
   "outputs": [],
   "source": [
    "!git commit -m \"Jupyter notebook -- test\""
   ]
  },
  {
   "cell_type": "code",
   "execution_count": null,
   "id": "1ab333a7",
   "metadata": {},
   "outputs": [],
   "source": [
    "!git push -u origin main #pushes the files to the github?"
   ]
  },
  {
   "cell_type": "code",
   "execution_count": null,
   "id": "72ff93a9",
   "metadata": {},
   "outputs": [],
   "source": []
  },
  {
   "cell_type": "code",
   "execution_count": null,
   "id": "2098817d",
   "metadata": {},
   "outputs": [],
   "source": [
    "\n",
    "\n",
    "\n",
    "!git status        #shows files in the directory for the staging area?\n",
    "                    #will show the files that haven't ben committed\n",
    "\n",
    "    \n",
    "#!git add .                     #Adds everything to the hidden git folder\n",
    "#!git add 2022-06-10.html       #Adds just 1 file to \"Stage?\"\n",
    "\n",
    "\n",
    "\n",
    "#!git commit -m \"Hello first commit!\"     #Comits the staging area"
   ]
  },
  {
   "cell_type": "code",
   "execution_count": null,
   "id": "6a11bbcd",
   "metadata": {},
   "outputs": [],
   "source": [
    "\n",
    "!git remote add origin https://github.com/ComradMarx/dem_gaz_2.git #add remote origin\n",
    "#!git remote set-origin https://github.com/ComradMarx/dem_gaz_2.git\n",
    "\n",
    "#!git remote remove origin  #delete remote origin\n",
    "\n"
   ]
  },
  {
   "cell_type": "code",
   "execution_count": null,
   "id": "d05f4a03",
   "metadata": {},
   "outputs": [],
   "source": [
    "!git branch -M main"
   ]
  },
  {
   "cell_type": "code",
   "execution_count": null,
   "id": "1d9c763b",
   "metadata": {},
   "outputs": [],
   "source": [
    "!git push -u origin main #pushes the files to the github?"
   ]
  },
  {
   "cell_type": "code",
   "execution_count": null,
   "id": "f09d53b1",
   "metadata": {},
   "outputs": [],
   "source": []
  },
  {
   "cell_type": "code",
   "execution_count": null,
   "id": "8edf1e24",
   "metadata": {},
   "outputs": [],
   "source": [
    "!git add 2022-06-10.html"
   ]
  },
  {
   "cell_type": "code",
   "execution_count": null,
   "id": "14dbecc9",
   "metadata": {},
   "outputs": [],
   "source": [
    "!git commit -m 'fuck you4'"
   ]
  },
  {
   "cell_type": "code",
   "execution_count": null,
   "id": "b1b96f22",
   "metadata": {},
   "outputs": [],
   "source": []
  }
 ],
 "metadata": {
  "kernelspec": {
   "display_name": "Python 3 (ipykernel)",
   "language": "python",
   "name": "python3"
  },
  "language_info": {
   "codemirror_mode": {
    "name": "ipython",
    "version": 3
   },
   "file_extension": ".py",
   "mimetype": "text/x-python",
   "name": "python",
   "nbconvert_exporter": "python",
   "pygments_lexer": "ipython3",
   "version": "3.10.7"
  }
 },
 "nbformat": 4,
 "nbformat_minor": 5
}
