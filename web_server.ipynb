{
 "cells": [
  {
   "cell_type": "code",
   "execution_count": null,
   "id": "318719c2",
   "metadata": {},
   "outputs": [],
   "source": []
  },
  {
   "cell_type": "code",
   "execution_count": 1,
   "id": "b4fe085d",
   "metadata": {},
   "outputs": [],
   "source": [
    "import os"
   ]
  },
  {
   "cell_type": "code",
   "execution_count": 2,
   "id": "2839f99f",
   "metadata": {},
   "outputs": [
    {
     "data": {
      "text/plain": [
       "'/Users/deanemarks/Desktop/PROGRAMS/dem gaz_scraper_program'"
      ]
     },
     "execution_count": 2,
     "metadata": {},
     "output_type": "execute_result"
    }
   ],
   "source": [
    "os.getcwd()"
   ]
  },
  {
   "cell_type": "code",
   "execution_count": 3,
   "id": "69b8d977",
   "metadata": {},
   "outputs": [
    {
     "data": {
      "text/plain": [
       "['.DS_Store',\n",
       " 'web_server.ipynb',\n",
       " 'dem_gaz_script.ipynb',\n",
       " '__pycache__',\n",
       " '.ipynb_checkpoints',\n",
       " '.git',\n",
       " 'dem_gaz_scraper1.py']"
      ]
     },
     "execution_count": 3,
     "metadata": {},
     "output_type": "execute_result"
    }
   ],
   "source": [
    "os.listdir()"
   ]
  },
  {
   "cell_type": "code",
   "execution_count": null,
   "id": "4041aa38",
   "metadata": {},
   "outputs": [],
   "source": []
  },
  {
   "cell_type": "code",
   "execution_count": null,
   "id": "5e6ec44a",
   "metadata": {},
   "outputs": [],
   "source": []
  },
  {
   "cell_type": "markdown",
   "id": "c7c947e3",
   "metadata": {},
   "source": [
    "# pull in a repository "
   ]
  },
  {
   "cell_type": "code",
   "execution_count": 4,
   "id": "fd4623f2",
   "metadata": {},
   "outputs": [],
   "source": [
    "!rm -rf .git  #deletes hidden git folder/ reopsatory"
   ]
  },
  {
   "cell_type": "code",
   "execution_count": 5,
   "id": "8d185242",
   "metadata": {},
   "outputs": [
    {
     "name": "stdout",
     "output_type": "stream",
     "text": [
      "Initialized empty Git repository in /Users/deanemarks/Desktop/PROGRAMS/dem gaz_scraper_program/.git/\r\n"
     ]
    }
   ],
   "source": [
    "!git init #creates a hidden git folder inside of the directory... see with os.list"
   ]
  },
  {
   "cell_type": "code",
   "execution_count": 6,
   "id": "8a29846a",
   "metadata": {},
   "outputs": [
    {
     "name": "stdout",
     "output_type": "stream",
     "text": [
      "remote: Enumerating objects: 9, done.\u001b[K\n",
      "remote: Counting objects: 100% (9/9), done.\u001b[K\n",
      "remote: Compressing objects: 100% (8/8), done.\u001b[K\n",
      "remote: Total 9 (delta 0), reused 0 (delta 0), pack-reused 0\u001b[K\n",
      "Unpacking objects: 100% (9/9), 238.92 KiB | 2.06 MiB/s, done.\n",
      "From https://github.com/ComradMarx/Dem_gaz\n",
      " * branch            main       -> FETCH_HEAD\n"
     ]
    }
   ],
   "source": [
    "!git pull https://github.com/ComradMarx/Dem_gaz.git  main  #pulls the files into your directory"
   ]
  },
  {
   "cell_type": "code",
   "execution_count": null,
   "id": "1dff21c6",
   "metadata": {},
   "outputs": [],
   "source": [
    "!git push https://github.com/ComradMarx/Dem_gaz.git  main"
   ]
  },
  {
   "cell_type": "code",
   "execution_count": null,
   "id": "fbac8268",
   "metadata": {},
   "outputs": [],
   "source": []
  },
  {
   "cell_type": "code",
   "execution_count": 14,
   "id": "1cc72142",
   "metadata": {},
   "outputs": [
    {
     "name": "stdout",
     "output_type": "stream",
     "text": [
      "On branch main\r\n",
      "Changes not staged for commit:\r\n",
      "  (use \"git add <file>...\" to update what will be committed)\r\n",
      "  (use \"git restore <file>...\" to discard changes in working directory)\r\n",
      "\t\u001b[31mmodified:   web_server.ipynb\u001b[m\r\n",
      "\r\n",
      "Untracked files:\r\n",
      "  (use \"git add <file>...\" to include in what will be committed)\r\n",
      "\t\u001b[31m2022-06-10.html\u001b[m\r\n",
      "\t\u001b[31m2022-06-20.html\u001b[m\r\n",
      "\t\u001b[31m2022-06-21.html\u001b[m\r\n",
      "\t\u001b[31m2022-06-22.html\u001b[m\r\n",
      "\t\u001b[31m2022-10-19.html\u001b[m\r\n",
      "\t\u001b[31m2022-12-20.html\u001b[m\r\n",
      "\t\u001b[31mREADME.md\u001b[m\r\n",
      "\t\u001b[31mUntitled.ipynb\u001b[m\r\n",
      "\r\n",
      "no changes added to commit (use \"git add\" and/or \"git commit -a\")\r\n"
     ]
    }
   ],
   "source": [
    "!git add . "
   ]
  },
  {
   "cell_type": "code",
   "execution_count": null,
   "id": "bee6c44c",
   "metadata": {},
   "outputs": [],
   "source": []
  },
  {
   "cell_type": "code",
   "execution_count": null,
   "id": "d625fa72",
   "metadata": {},
   "outputs": [],
   "source": []
  },
  {
   "cell_type": "code",
   "execution_count": null,
   "id": "de250a1e",
   "metadata": {},
   "outputs": [],
   "source": []
  },
  {
   "cell_type": "code",
   "execution_count": null,
   "id": "90e1ee19",
   "metadata": {},
   "outputs": [],
   "source": []
  },
  {
   "cell_type": "code",
   "execution_count": null,
   "id": "dbf39c1d",
   "metadata": {},
   "outputs": [],
   "source": []
  },
  {
   "cell_type": "code",
   "execution_count": null,
   "id": "17cc78b1",
   "metadata": {},
   "outputs": [],
   "source": [
    "!git add ."
   ]
  },
  {
   "cell_type": "code",
   "execution_count": 9,
   "id": "1709f34d",
   "metadata": {},
   "outputs": [
    {
     "name": "stdout",
     "output_type": "stream",
     "text": [
      "[main b3d43c2] Jupyter notebook -- test\r\n",
      " 9 files changed, 1583 insertions(+)\r\n",
      " create mode 100644 .DS_Store\r\n",
      " create mode 100644 .ipynb_checkpoints/Untitled-checkpoint.ipynb\r\n",
      " create mode 100644 .ipynb_checkpoints/dem_gaz_script-checkpoint.ipynb\r\n",
      " create mode 100644 .ipynb_checkpoints/web_server-checkpoint.ipynb\r\n",
      " create mode 100644 __pycache__/dem_gaz_scraper.cpython-39.pyc\r\n",
      " create mode 100644 __pycache__/dem_gaz_scraper1.cpython-39.pyc\r\n",
      " create mode 100644 dem_gaz_scraper1.py\r\n",
      " create mode 100644 dem_gaz_script.ipynb\r\n",
      " create mode 100644 web_server.ipynb\r\n"
     ]
    }
   ],
   "source": [
    "!git commit -m \"Jupyter notebook -- test\""
   ]
  },
  {
   "cell_type": "code",
   "execution_count": 12,
   "id": "88b7f6f3",
   "metadata": {},
   "outputs": [
    {
     "name": "stdout",
     "output_type": "stream",
     "text": [
      "Enumerating objects: 14, done.\n",
      "Counting objects: 100% (14/14), done.\n",
      "Delta compression using up to 4 threads\n",
      "Compressing objects: 100% (13/13), done.\n",
      "Writing objects: 100% (13/13), 11.18 KiB | 3.73 MiB/s, done.\n",
      "Total 13 (delta 3), reused 0 (delta 0), pack-reused 0\n",
      "remote: Resolving deltas: 100% (3/3), done.\u001b[K\n",
      "To https://github.com/ComradMarx/Dem_gaz.git\n",
      "   b7e99de..b3d43c2  main -> main\n"
     ]
    }
   ],
   "source": [
    "#!git push -u origin main #pushes the files to the github?\n",
    "\n",
    "\n"
   ]
  },
  {
   "cell_type": "code",
   "execution_count": null,
   "id": "9f69319a",
   "metadata": {},
   "outputs": [],
   "source": []
  },
  {
   "cell_type": "code",
   "execution_count": null,
   "id": "850e3e6a",
   "metadata": {},
   "outputs": [],
   "source": [
    "\n",
    "\n",
    "\n",
    "!git status        #shows files in the directory for the staging area?\n",
    "                    #will show the files that haven't ben committed\n",
    "\n",
    "    \n",
    "#!git add .                     #Adds everything to the hidden git folder\n",
    "#!git add 2022-06-10.html       #Adds just 1 file to \"Stage?\"\n",
    "\n",
    "\n",
    "\n",
    "#!git commit -m \"Hello first commit!\"     #Comits the staging area"
   ]
  },
  {
   "cell_type": "code",
   "execution_count": null,
   "id": "cbf9b30d",
   "metadata": {},
   "outputs": [],
   "source": [
    "\n",
    "!git remote add origin https://github.com/ComradMarx/dem_gaz_2.git #add remote origin\n",
    "#!git remote set-origin https://github.com/ComradMarx/dem_gaz_2.git\n",
    "\n",
    "#!git remote remove origin  #delete remote origin\n",
    "\n"
   ]
  },
  {
   "cell_type": "code",
   "execution_count": null,
   "id": "5127d804",
   "metadata": {},
   "outputs": [],
   "source": [
    "!git branch -M main"
   ]
  },
  {
   "cell_type": "code",
   "execution_count": null,
   "id": "cd1bf460",
   "metadata": {},
   "outputs": [],
   "source": [
    "!git push -u origin main #pushes the files to the github?"
   ]
  },
  {
   "cell_type": "code",
   "execution_count": null,
   "id": "1cf582fe",
   "metadata": {},
   "outputs": [],
   "source": []
  },
  {
   "cell_type": "code",
   "execution_count": null,
   "id": "0b37eb73",
   "metadata": {},
   "outputs": [],
   "source": [
    "!git add 2022-06-10.html"
   ]
  },
  {
   "cell_type": "code",
   "execution_count": null,
   "id": "91dbf011",
   "metadata": {},
   "outputs": [],
   "source": [
    "!git commit -m 'fuck you4'"
   ]
  },
  {
   "cell_type": "code",
   "execution_count": null,
   "id": "0ea7b278",
   "metadata": {},
   "outputs": [],
   "source": []
  }
 ],
 "metadata": {
  "kernelspec": {
   "display_name": "Python 3 (ipykernel)",
   "language": "python",
   "name": "python3"
  },
  "language_info": {
   "codemirror_mode": {
    "name": "ipython",
    "version": 3
   },
   "file_extension": ".py",
   "mimetype": "text/x-python",
   "name": "python",
   "nbconvert_exporter": "python",
   "pygments_lexer": "ipython3",
   "version": "3.10.7"
  }
 },
 "nbformat": 4,
 "nbformat_minor": 5
}
